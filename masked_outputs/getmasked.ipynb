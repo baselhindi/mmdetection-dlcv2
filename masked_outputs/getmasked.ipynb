{
 "cells": [
  {
   "cell_type": "code",
   "execution_count": 5,
   "id": "6fc809ce-47ec-4e69-ba3a-64145c38ffca",
   "metadata": {},
   "outputs": [
    {
     "name": "stdout",
     "output_type": "stream",
     "text": [
      "0_masked_frame.jpg\n",
      "10_masked_frame.jpg\n",
      "11_masked_frame.jpg\n",
      "12_masked_frame.jpg\n",
      "13_masked_frame.jpg\n",
      "14_masked_frame.jpg\n",
      "15_masked_frame.jpg\n",
      "16_masked_frame.jpg\n",
      "17_masked_frame.jpg\n",
      "18_masked_frame.jpg\n",
      "19_masked_frame.jpg\n",
      "1_masked_frame.jpg\n",
      "20_masked_frame.jpg\n",
      "21_masked_frame.jpg\n",
      "22_masked_frame.jpg\n",
      "23_masked_frame.jpg\n",
      "24_masked_frame.jpg\n",
      "25_masked_frame.jpg\n",
      "26_masked_frame.jpg\n",
      "27_masked_frame.jpg\n",
      "28_masked_frame.jpg\n",
      "29_masked_frame.jpg\n",
      "2_masked_frame.jpg\n",
      "30_masked_frame.jpg\n",
      "31_masked_frame.jpg\n",
      "32_masked_frame.jpg\n",
      "33_masked_frame.jpg\n",
      "34_masked_frame.jpg\n",
      "35_masked_frame.jpg\n",
      "36_masked_frame.jpg\n",
      "37_masked_frame.jpg\n",
      "38_masked_frame.jpg\n",
      "39_masked_frame.jpg\n",
      "3_masked_frame.jpg\n",
      "40_masked_frame.jpg\n",
      "41_masked_frame.jpg\n",
      "42_masked_frame.jpg\n",
      "43_masked_frame.jpg\n",
      "44_masked_frame.jpg\n",
      "45_masked_frame.jpg\n",
      "46_masked_frame.jpg\n",
      "47_masked_frame.jpg\n",
      "48_masked_frame.jpg\n",
      "49_masked_frame.jpg\n",
      "4_masked_frame.jpg\n",
      "50_masked_frame.jpg\n",
      "51_masked_frame.jpg\n",
      "52_masked_frame.jpg\n",
      "53_masked_frame.jpg\n",
      "54_masked_frame.jpg\n",
      "55_masked_frame.jpg\n",
      "56_masked_frame.jpg\n",
      "57_masked_frame.jpg\n",
      "58_masked_frame.jpg\n",
      "59_masked_frame.jpg\n",
      "5_masked_frame.jpg\n",
      "60_masked_frame.jpg\n",
      "61_masked_frame.jpg\n",
      "62_masked_frame.jpg\n",
      "63_masked_frame.jpg\n",
      "64_masked_frame.jpg\n",
      "65_masked_frame.jpg\n",
      "66_masked_frame.jpg\n",
      "67_masked_frame.jpg\n",
      "68_masked_frame.jpg\n",
      "69_masked_frame.jpg\n",
      "6_masked_frame.jpg\n",
      "70_masked_frame.jpg\n",
      "7_masked_frame.jpg\n",
      "8_masked_frame.jpg\n",
      "9_masked_frame.jpg\n",
      "getmasked.ipynb\n"
     ]
    }
   ],
   "source": [
    "!tar chvfz notebook.tar.gz *"
   ]
  },
  {
   "cell_type": "code",
   "execution_count": null,
   "id": "1b722f3c-5149-466a-8b28-3a5ecc236264",
   "metadata": {},
   "outputs": [],
   "source": []
  }
 ],
 "metadata": {
  "environment": {
   "kernel": "python3",
   "name": "common-cu110.m100",
   "type": "gcloud",
   "uri": "gcr.io/deeplearning-platform-release/base-cu110:m100"
  },
  "kernelspec": {
   "display_name": "Python 3",
   "language": "python",
   "name": "python3"
  },
  "language_info": {
   "codemirror_mode": {
    "name": "ipython",
    "version": 3
   },
   "file_extension": ".py",
   "mimetype": "text/x-python",
   "name": "python",
   "nbconvert_exporter": "python",
   "pygments_lexer": "ipython3",
   "version": "3.7.12"
  }
 },
 "nbformat": 4,
 "nbformat_minor": 5
}
